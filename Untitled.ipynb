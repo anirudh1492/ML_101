{
 "cells": [
  {
   "cell_type": "code",
   "execution_count": 2,
   "metadata": {
    "collapsed": true
   },
   "outputs": [],
   "source": [
    "import numpy as np"
   ]
  },
  {
   "cell_type": "code",
   "execution_count": 169,
   "metadata": {},
   "outputs": [
    {
     "name": "stdout",
     "output_type": "stream",
     "text": [
      "[[1, 1, 1, 1]]\n",
      "[[1, 1, 1, 1], [2, 4, 6, 8]]\n",
      "[[1, 1, 1, 1], [2, 4, 6, 8], [4, 16, 36, 64]]\n",
      "[[1, 1, 1, 1], [2, 4, 6, 8], [4, 16, 36, 64], [8, 64, 216, 512]]\n",
      "[[  1   2   4   8]\n",
      " [  1   4  16  64]\n",
      " [  1   6  36 216]\n",
      " [  1   8  64 512]]\n"
     ]
    }
   ],
   "source": [
    "x=[2, 4, 6, 8]\n",
    "#print(x.size)\n",
    "x = np.array(x)\n",
    "b=[]\n",
    "d = 3\n",
    "for j in range(0,d+1):\n",
    "    a = []\n",
    "    for i in x:\n",
    "        a.append(i**j)  \n",
    "    b.append(a)\n",
    "b= np.array(b)\n",
    "b=np.transpose(b)\n",
    "print(b)        \n",
    "        \n",
    "        \n",
    "    \n",
    "    "
   ]
  },
  {
   "cell_type": "code",
   "execution_count": 149,
   "metadata": {},
   "outputs": [
    {
     "name": "stdout",
     "output_type": "stream",
     "text": [
      "[[     4     20    120    800]\n",
      " [    20    120    800   5664]\n",
      " [   120    800   5664  41600]\n",
      " [   800   5664  41600 312960]]\n",
      "[[ 6.90000000e+01 -5.20833333e+01  1.12500000e+01 -7.29166667e-01]\n",
      " [-5.20833333e+01  4.03472222e+01 -8.85416667e+00  5.79861111e-01]\n",
      " [ 1.12500000e+01 -8.85416667e+00  1.96875000e+00 -1.30208333e-01]\n",
      " [-7.29166667e-01  5.79861111e-01 -1.30208333e-01  8.68055556e-03]]\n",
      "[[ 4.         -6.          4.         -1.        ]\n",
      " [-2.16666667  4.75       -3.5         0.91666667]\n",
      " [ 0.375      -1.          0.875      -0.25      ]\n",
      " [-0.02083333  0.0625     -0.0625      0.02083333]]\n"
     ]
    }
   ],
   "source": [
    "from numpy.linalg import inv\n",
    "phit = np.transpose(b)\n",
    "\n",
    "m = np.dot(phit,b)\n",
    "n = inv(m)\n",
    "f = np.dot(n,phit)\n",
    "print(m)\n",
    "print(n)\n",
    "print(f)"
   ]
  },
  {
   "cell_type": "code",
   "execution_count": 18,
   "metadata": {},
   "outputs": [
    {
     "name": "stdout",
     "output_type": "stream",
     "text": [
      "[1.0]\n",
      "[1.0, 0.6703200460356393]\n",
      "[1.0, 0.6703200460356393, 0.20189651799465538]\n",
      "[1.0, 0.6703200460356393, 0.20189651799465538, 0.02732372244729256]\n",
      "[0.6703200460356393]\n",
      "[0.6703200460356393, 1.0]\n",
      "[0.6703200460356393, 1.0, 0.6703200460356393]\n",
      "[0.6703200460356393, 1.0, 0.6703200460356393, 0.20189651799465538]\n",
      "[0.20189651799465538]\n",
      "[0.20189651799465538, 0.6703200460356393]\n",
      "[0.20189651799465538, 0.6703200460356393, 1.0]\n",
      "[0.20189651799465538, 0.6703200460356393, 1.0, 0.6703200460356393]\n",
      "[0.02732372244729256]\n",
      "[0.02732372244729256, 0.20189651799465538]\n",
      "[0.02732372244729256, 0.20189651799465538, 0.6703200460356393]\n",
      "[0.02732372244729256, 0.20189651799465538, 0.6703200460356393, 1.0]\n",
      "[[1.         0.67032005 0.20189652 0.02732372]\n",
      " [0.67032005 1.         0.67032005 0.20189652]\n",
      " [0.20189652 0.67032005 1.         0.67032005]\n",
      " [0.02732372 0.20189652 0.67032005 1.        ]]\n"
     ]
    }
   ],
   "source": [
    "x=[6,8,10,12]\n",
    "b=[]\n",
    "\n",
    "for i in x:\n",
    "    a=[]\n",
    "    for j in x:\n",
    "        gam = 0.1\n",
    "        poww = (-0.1)*(np.power((i-j),2))\n",
    "        val = np.exp(poww)\n",
    "        a.append(val)\n",
    "        print(a)\n",
    "    b.append(a)\n",
    "b=np.array(b)\n",
    "print(b)\n",
    "b = np.array(b)"
   ]
  },
  {
   "cell_type": "code",
   "execution_count": 2,
   "metadata": {},
   "outputs": [
    {
     "name": "stdout",
     "output_type": "stream",
     "text": [
      "[0.001, 0.01, 0.1, 1.0, 10.0, 100.0, 1000.0]\n"
     ]
    }
   ],
   "source": [
    "x = 10**(-3)\n",
    "y=[]\n",
    "m=[]\n",
    "y.append(x)\n",
    "while(m!=1000):    \n",
    "    m = x*10\n",
    "    x=m\n",
    "    y.append(m)\n",
    "print(y)\n"
   ]
  },
  {
   "cell_type": "code",
   "execution_count": 1,
   "metadata": {},
   "outputs": [
    {
     "name": "stdout",
     "output_type": "stream",
     "text": [
      "[0.001, 0.01, 0.1, 1.0, 10.0, 100.0, 1000.0]\n"
     ]
    }
   ],
   "source": [
    "p = 10**(-3)\n",
    "q=[]\n",
    "r=[]\n",
    "q.append(p)\n",
    "while(r!=1000):    \n",
    "    r = p*10\n",
    "    p=r\n",
    "    q.append(r)\n",
    "print(q)"
   ]
  },
  {
   "cell_type": "code",
   "execution_count": null,
   "metadata": {
    "collapsed": true
   },
   "outputs": [],
   "source": []
  }
 ],
 "metadata": {
  "kernelspec": {
   "display_name": "Python 3",
   "language": "python",
   "name": "python3"
  },
  "language_info": {
   "codemirror_mode": {
    "name": "ipython",
    "version": 3
   },
   "file_extension": ".py",
   "mimetype": "text/x-python",
   "name": "python",
   "nbconvert_exporter": "python",
   "pygments_lexer": "ipython3",
   "version": "3.6.1"
  }
 },
 "nbformat": 4,
 "nbformat_minor": 2
}
